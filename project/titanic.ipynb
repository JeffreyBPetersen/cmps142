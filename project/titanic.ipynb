{
 "metadata": {
  "name": "",
  "signature": "sha256:604ff97872ae8599d09b6f0d9e947b380f7991f6614748bb2e814903d8edccd7"
 },
 "nbformat": 3,
 "nbformat_minor": 0,
 "worksheets": [
  {
   "cells": [
    {
     "cell_type": "markdown",
     "metadata": {},
     "source": [
      "# Titanic Survivor Predictions using [Kaggle Titanic](https://www.kaggle.com/c/titanic) Passenger Data\n",
      "<img src=\"titanic.png\" style=\"float: right; padding: 2em\" />\n",
      "### CMPS142 Project: Raymond Colebaugh, Peter Czupil, and Jeffery Petersen\n",
      "## Abstract\n",
      "The sinking of the RMS Titanic was a terrible tragedy, out of 2224 passengers, only 1502 survived. It was known as the largest ship afloat at the time it had entered service and was considered unsinkable. Perhaps this is one reason why the ship didn't have enough lifeboats in case of such an emergency. For many different reasons, certain people had a higher chance of survival in this incident than others. Using a few different learning methods, it is possible to characterize the survivors of this tragic event given a set of data which reveals details about the passengers. \n",
      "## Introduction\n",
      "Given the training dataset in CSV format from the Kaggle website, we can load\n",
      "it into a Pandas DataFrame (similar to the data structure of the same name in R).\n",
      "We can then clean up the data, providing estimates for any missing data. This\n",
      "will put us in position to build a decision tree for making predictions.\n",
      "\n",
      "## Related Work\n",
      "Since this project idea was taken from a popular Kaggle challenge which started years ago, there is a large amount of work related to this problem, including:\n",
      "* http://www.ise.bgu.ac.il/faculty/liorr/hbchap9.pdf\n",
      "* https://www.kaggle.com/users/353649/semmytaju/titanic/test-o1\n",
      "* http://en.wikipedia.org/wiki/Hyperparameter_optimization\n",
      "\n",
      "## Methodology\n",
      "We are using the train.csv and test.csv data sets from the Kaggle website. These data sets include details about the passesngers, such as: name, sex, age etc.. This data set is free and available for download from https://www.kaggle.com/c/titanic/download/train.csv and https://www.kaggle.com/c/titanic/download/test.csv.\n",
      "\n",
      "As stated in the introductions, the data set given is missing entries for a few values. This requires a small amout of preprocessing to give these missing entries values which make sense. Once we are done with this initial preprocessing, we will be learning using a few different algorithms to see which gives us the best accuracy. A few algorithms which seem like a natural fit include nearest neighbor, support vector machines and decision trees. We will be using Python3 as the main language to build all of the models. Within Python, we will be using Matplotlib, Numpy, Pandas and Scikit-learn. \n",
      "\n",
      "The algorithms that we will be using require the tuning of parameters, that is, finding which parameter values yield the highest accuracies. For the decision tree, we will be looking at things like impurity measurement. There are a few ways of measuring the impurity when using decision trees (information gain, Gini index etc). Finding the best impurity measurement is very important because it will determine how our algorithm traverses the decision tree. Other parameters include maximum depth of the decision tree which can be important considering the size of the data set. The support vectors machines would require piking a good kernel and tuning the parameters of that kernel. For instance, if we were to use the RBF kernel, we would need to optimize the regularization constant C and the parameter gamma (we did this as an exercise in homework assignment 3). As for nearest neighbors, we would only need to really tune k, the size of the \"net\" we will be using to determine whether a passenger survived or not. Using different distance metrics may be something to consider as well.\n",
      "\n",
      "We plan on gathering a bit of meta information about all the features, such as average, minimum, and maximum, if applicable. This will allow us to better tune the parameters for our algorithms. We will then start experimenting with the training set by running them through our algorithms with their tuned parameters. We will try different ways of training and testing, using both the full sets and cross-validation as well. Although the data set isn't very big, the time it will take to run these experiments may grow to be very large, especially for the svm's. However we are using tools which are known to be relatively efficient in this area.\n",
      "\n",
      "Our goal is to develop a predictor for survival in the Titanic disaster. Since\n",
      "what we are trying to predict is the group an observation in the dataset belongs\n",
      "to, we are solving a classification problem. We have selected a subset of classifiers\n",
      "we are using to examine this dataset, including the suggested decision trees, and a\n",
      "random forest. Additionally, we are training a Support Vector Machine to predict survival.\n",
      "Should time permit, we would like to try using k-Nearest Neighbors on a subset of of\n",
      "features to see how it compares.\n",
      "\n",
      "The natural thought we had when selecting features follows the etiquitte of abandoning ship\n",
      "in time of disaster: the women and children go first. It also seems logical that the passenger's\n",
      "socioeconomic class would factor into their chance of survival. This led to choose to first\n",
      "explore possibilities in using the following features:\n",
      "* Pclass\n",
      "* Age\n",
      "* Sex\n",
      "\n",
      "First, we examine some sample data and calculate some general statistics about the features, as\n",
      "well as plot histograms to get a visual representation."
     ]
    },
    {
     "cell_type": "code",
     "collapsed": false,
     "input": [
      "import analysis\n",
      "import numpy as np\n",
      "import matplotlib.pyplot as plt\n",
      "import seaborn as sns\n",
      "import pandas as pd\n",
      "%matplotlib inline\n",
      "\n",
      "# Load Titanic passenger csv into a data frame\n",
      "df = pd.read_csv('train.csv', header=0).set_index('PassengerId')\n",
      "test = pd.read_csv('test.csv', header=0).set_index('PassengerId')\n",
      "df = analysis.munge_data(df)\n",
      "test = analysis.munge_data(test)\n",
      "\n",
      "survivors = df[(df['Survived'] == 1)]\n",
      "perishers = df[(df['Survived'] == 0)]\n",
      "\n",
      "N = df.count().max()\n",
      "N_survivors = survivors.count().max()\n",
      "N_perishers = perishers.count().max()\n",
      "\n",
      "print(\"Number of Examples: %d\" % N)\n",
      "print(\"Number of Survivors: %d / %d (%.2f %%)\" % (N_survivors, N, (N_survivors / N)))\n",
      "print(\"Number of Perishers: %d / %d (%.2f %%)\" % (N_perishers, N, (N_perishers / N)))\n",
      "df.head()"
     ],
     "language": "python",
     "metadata": {},
     "outputs": [
      {
       "output_type": "stream",
       "stream": "stdout",
       "text": [
        "Number of Examples: 891\n",
        "Number of Survivors: 342 / 891 (0.38 %)\n",
        "Number of Perishers: 549 / 891 (0.62 %)\n"
       ]
      },
      {
       "html": [
        "<div style=\"max-height:1000px;max-width:1500px;overflow:auto;\">\n",
        "<table border=\"1\" class=\"dataframe\">\n",
        "  <thead>\n",
        "    <tr style=\"text-align: right;\">\n",
        "      <th></th>\n",
        "      <th>Survived</th>\n",
        "      <th>Pclass</th>\n",
        "      <th>Name</th>\n",
        "      <th>Sex</th>\n",
        "      <th>Age</th>\n",
        "      <th>SibSp</th>\n",
        "      <th>Parch</th>\n",
        "      <th>Ticket</th>\n",
        "      <th>Fare</th>\n",
        "      <th>Cabin</th>\n",
        "      <th>Embarked</th>\n",
        "      <th>Gender</th>\n",
        "      <th>AgeFixed</th>\n",
        "    </tr>\n",
        "    <tr>\n",
        "      <th>PassengerId</th>\n",
        "      <th></th>\n",
        "      <th></th>\n",
        "      <th></th>\n",
        "      <th></th>\n",
        "      <th></th>\n",
        "      <th></th>\n",
        "      <th></th>\n",
        "      <th></th>\n",
        "      <th></th>\n",
        "      <th></th>\n",
        "      <th></th>\n",
        "      <th></th>\n",
        "      <th></th>\n",
        "    </tr>\n",
        "  </thead>\n",
        "  <tbody>\n",
        "    <tr>\n",
        "      <th>1</th>\n",
        "      <td>0</td>\n",
        "      <td>3</td>\n",
        "      <td>Braund, Mr. Owen Harris</td>\n",
        "      <td>male</td>\n",
        "      <td>22</td>\n",
        "      <td>1</td>\n",
        "      <td>0</td>\n",
        "      <td>A/5 21171</td>\n",
        "      <td>7.2500</td>\n",
        "      <td>NaN</td>\n",
        "      <td>S</td>\n",
        "      <td>1</td>\n",
        "      <td>29.699118</td>\n",
        "    </tr>\n",
        "    <tr>\n",
        "      <th>2</th>\n",
        "      <td>1</td>\n",
        "      <td>1</td>\n",
        "      <td>Cumings, Mrs. John Bradley (Florence Briggs Th...</td>\n",
        "      <td>female</td>\n",
        "      <td>38</td>\n",
        "      <td>1</td>\n",
        "      <td>0</td>\n",
        "      <td>PC 17599</td>\n",
        "      <td>71.2833</td>\n",
        "      <td>C85</td>\n",
        "      <td>C</td>\n",
        "      <td>0</td>\n",
        "      <td>29.699118</td>\n",
        "    </tr>\n",
        "    <tr>\n",
        "      <th>3</th>\n",
        "      <td>1</td>\n",
        "      <td>3</td>\n",
        "      <td>Heikkinen, Miss. Laina</td>\n",
        "      <td>female</td>\n",
        "      <td>26</td>\n",
        "      <td>0</td>\n",
        "      <td>0</td>\n",
        "      <td>STON/O2. 3101282</td>\n",
        "      <td>7.9250</td>\n",
        "      <td>NaN</td>\n",
        "      <td>S</td>\n",
        "      <td>0</td>\n",
        "      <td>29.699118</td>\n",
        "    </tr>\n",
        "    <tr>\n",
        "      <th>4</th>\n",
        "      <td>1</td>\n",
        "      <td>1</td>\n",
        "      <td>Futrelle, Mrs. Jacques Heath (Lily May Peel)</td>\n",
        "      <td>female</td>\n",
        "      <td>35</td>\n",
        "      <td>1</td>\n",
        "      <td>0</td>\n",
        "      <td>113803</td>\n",
        "      <td>53.1000</td>\n",
        "      <td>C123</td>\n",
        "      <td>S</td>\n",
        "      <td>0</td>\n",
        "      <td>29.699118</td>\n",
        "    </tr>\n",
        "    <tr>\n",
        "      <th>5</th>\n",
        "      <td>0</td>\n",
        "      <td>3</td>\n",
        "      <td>Allen, Mr. William Henry</td>\n",
        "      <td>male</td>\n",
        "      <td>35</td>\n",
        "      <td>0</td>\n",
        "      <td>0</td>\n",
        "      <td>373450</td>\n",
        "      <td>8.0500</td>\n",
        "      <td>NaN</td>\n",
        "      <td>S</td>\n",
        "      <td>1</td>\n",
        "      <td>29.699118</td>\n",
        "    </tr>\n",
        "  </tbody>\n",
        "</table>\n",
        "</div>"
       ],
       "metadata": {},
       "output_type": "pyout",
       "prompt_number": 18,
       "text": [
        "             Survived  Pclass  \\\n",
        "PassengerId                     \n",
        "1                   0       3   \n",
        "2                   1       1   \n",
        "3                   1       3   \n",
        "4                   1       1   \n",
        "5                   0       3   \n",
        "\n",
        "                                                          Name     Sex  Age  \\\n",
        "PassengerId                                                                   \n",
        "1                                      Braund, Mr. Owen Harris    male   22   \n",
        "2            Cumings, Mrs. John Bradley (Florence Briggs Th...  female   38   \n",
        "3                                       Heikkinen, Miss. Laina  female   26   \n",
        "4                 Futrelle, Mrs. Jacques Heath (Lily May Peel)  female   35   \n",
        "5                                     Allen, Mr. William Henry    male   35   \n",
        "\n",
        "             SibSp  Parch            Ticket     Fare Cabin Embarked  Gender  \\\n",
        "PassengerId                                                                   \n",
        "1                1      0         A/5 21171   7.2500   NaN        S       1   \n",
        "2                1      0          PC 17599  71.2833   C85        C       0   \n",
        "3                0      0  STON/O2. 3101282   7.9250   NaN        S       0   \n",
        "4                1      0            113803  53.1000  C123        S       0   \n",
        "5                0      0            373450   8.0500   NaN        S       1   \n",
        "\n",
        "              AgeFixed  \n",
        "PassengerId             \n",
        "1            29.699118  \n",
        "2            29.699118  \n",
        "3            29.699118  \n",
        "4            29.699118  \n",
        "5            29.699118  "
       ]
      }
     ],
     "prompt_number": 18
    },
    {
     "cell_type": "code",
     "collapsed": false,
     "input": [
      "plt.scatter(df[\"Fare\"], df[\"Pclass\"])\n",
      "plt.xlabel(\"Fare\")\n",
      "plt.ylabel(\"Class\")"
     ],
     "language": "python",
     "metadata": {},
     "outputs": [
      {
       "metadata": {},
       "output_type": "pyout",
       "prompt_number": 5,
       "text": [
        "<matplotlib.text.Text at 0x7fabd37856d8>"
       ]
      },
      {
       "metadata": {},
       "output_type": "display_data",
       "png": "[encoded data removed]",
       "text": [
        "<matplotlib.figure.Figure at 0x7fabd376db38>"
       ]
      }
     ],
     "prompt_number": 5
    },
    {
     "cell_type": "markdown",
     "metadata": {},
     "source": [
      "### Comparing Survivor and Perisher Data\n",
      "Before we begin implementing any learning methods, it is helpful to calculate some general statistics about our data and begin to plot and visualize the features. In particular, we want to inspect information about the features we instinctively feel have an influence in the outcome, such as the age and gender of the passenger."
     ]
    },
    {
     "cell_type": "code",
     "collapsed": false,
     "input": [
      "print(\"Average Age of Survivor: %.2f\" % survivors[\"Age\"].mean())\n",
      "print(\"Average Age of Perisher: %.2f\" % perishers[\"Age\"].mean())"
     ],
     "language": "python",
     "metadata": {},
     "outputs": [
      {
       "output_type": "stream",
       "stream": "stdout",
       "text": [
        "Average Age of Survivor: 28.34\n",
        "Average Age of Perisher: 30.63\n"
       ]
      }
     ],
     "prompt_number": 9
    },
    {
     "cell_type": "code",
     "collapsed": false,
     "input": [
      "perishers['Age'].dropna().hist(bins = 12, label='Perished')\n",
      "survivors['Age'].dropna().hist(bins = 12, label='Survived', alpha = 0.5)\n",
      "plt.title(\"Age of Survivors and Perishers\")\n",
      "plt.xlabel(\"Age\")\n",
      "plt.ylabel(\"Count\")\n",
      "plt.legend()"
     ],
     "language": "python",
     "metadata": {},
     "outputs": [
      {
       "metadata": {},
       "output_type": "pyout",
       "prompt_number": 55,
       "text": [
        "<matplotlib.legend.Legend at 0x7f210f072da0>"
       ]
      },
      {
       "metadata": {},
       "output_type": "display_data",
       "png": "[encoded data removed]",
       "text": [
        "<matplotlib.figure.Figure at 0x7f210f2315f8>"
       ]
      }
     ],
     "prompt_number": 55
    },
    {
     "cell_type": "code",
     "collapsed": false,
     "input": [
      "perishers['Pclass'].dropna().hist(range=(1,3), bins = 3, label='Perished')\n",
      "survivors['Pclass'].dropna().hist(range=(1,3), bins = 3, label='Survived', alpha = 0.5)\n",
      "plt.title(\"Class of Survivors and Perishers\")\n",
      "plt.xlabel(\"Class\")\n",
      "plt.xticks(np.arange(5))\n",
      "plt.legend(loc='upper left')"
     ],
     "language": "python",
     "metadata": {},
     "outputs": [
      {
       "metadata": {},
       "output_type": "pyout",
       "prompt_number": 56,
       "text": [
        "<matplotlib.legend.Legend at 0x7f210f03d860>"
       ]
      },
      {
       "metadata": {},
       "output_type": "display_data",
       "png": "[encoded data removed]",
       "text": [
        "<matplotlib.figure.Figure at 0x7f210f042be0>"
       ]
      }
     ],
     "prompt_number": 56
    },
    {
     "cell_type": "code",
     "collapsed": false,
     "input": [
      "#df.groupby[]\"Pclass\"].hist(bins=3, range=(1,3))\n",
      "#plt.title(\"Distribution of Class by Port Embarked\")\n",
      "print(df[\"Embarked\"].describe())\n",
      "df[\"Embarked\"].unique()"
     ],
     "language": "python",
     "metadata": {},
     "outputs": [
      {
       "output_type": "stream",
       "stream": "stdout",
       "text": [
        "count     889\n",
        "unique      3\n",
        "top         S\n",
        "freq      644\n",
        "Name: Embarked, dtype: object\n"
       ]
      },
      {
       "metadata": {},
       "output_type": "pyout",
       "prompt_number": 17,
       "text": [
        "array(['S', 'C', 'Q', nan], dtype=object)"
       ]
      }
     ],
     "prompt_number": 17
    },
    {
     "cell_type": "code",
     "collapsed": false,
     "input": [
      "perishers[(perishers[\"Embarked\"] == 'S')][\"Pclass\"].hist(bins=3, label='Perished')\n",
      "survivors[(survivors[\"Embarked\"] == 'S')][\"Pclass\"].hist(bins=3, label='Survived', alpha=0.8)\n",
      "plt.title(\"Distribution of Class Embarked at Port S\")\n",
      "plt.xlabel(\"Class\")\n",
      "plt.legend(loc='upper left')\n",
      "plt.xticks(np.arange(5))"
     ],
     "language": "python",
     "metadata": {},
     "outputs": [
      {
       "metadata": {},
       "output_type": "pyout",
       "prompt_number": 61,
       "text": [
        "([<matplotlib.axis.XTick at 0x7f210ef10f28>,\n",
        "  <matplotlib.axis.XTick at 0x7f210ee32ef0>,\n",
        "  <matplotlib.axis.XTick at 0x7f210eddfa20>,\n",
        "  <matplotlib.axis.XTick at 0x7f210ed5cac8>,\n",
        "  <matplotlib.axis.XTick at 0x7f210ed605f8>],\n",
        " <a list of 5 Text xticklabel objects>)"
       ]
      },
      {
       "metadata": {},
       "output_type": "display_data",
       "png": "[encoded data removed]",
       "text": [
        "<matplotlib.figure.Figure at 0x7f210ed68f98>"
       ]
      }
     ],
     "prompt_number": 61
    },
    {
     "cell_type": "code",
     "collapsed": false,
     "input": [
      "survivors[(survivors[\"Embarked\"] == 'C')][\"Pclass\"].hist(bins=3, label='Survivors')\n",
      "perishers[(perishers[\"Embarked\"] == 'C')][\"Pclass\"].hist(bins=3, label='Perished', alpha=0.75)\n",
      "plt.title(\"Distribution of Class Embarked at Port C\")\n",
      "plt.xlabel(\"Class\")\n",
      "plt.legend()\n",
      "plt.xticks(np.arange(5))"
     ],
     "language": "python",
     "metadata": {},
     "outputs": [
      {
       "metadata": {},
       "output_type": "pyout",
       "prompt_number": 66,
       "text": [
        "([<matplotlib.axis.XTick at 0x7f210ec95b00>,\n",
        "  <matplotlib.axis.XTick at 0x7f210ecd42b0>,\n",
        "  <matplotlib.axis.XTick at 0x7f210eb535c0>,\n",
        "  <matplotlib.axis.XTick at 0x7f210eab97b8>,\n",
        "  <matplotlib.axis.XTick at 0x7f210eabc2e8>],\n",
        " <a list of 5 Text xticklabel objects>)"
       ]
      },
      {
       "metadata": {},
       "output_type": "display_data",
       "png": "[encoded data removed]",
       "text": [
        "<matplotlib.figure.Figure at 0x7f210eb50a90>"
       ]
      }
     ],
     "prompt_number": 66
    },
    {
     "cell_type": "code",
     "collapsed": false,
     "input": [
      "perishers[(perishers[\"Embarked\"] == 'Q')][\"Pclass\"].hist(bins=3, label='Perished')\n",
      "survivors[(survivors[\"Embarked\"] == 'Q')][\"Pclass\"].hist(bins=3, label='Survived', alpha=0.75)\n",
      "plt.title(\"Distribution of Class Embarked at Port Q\")\n",
      "plt.legend(loc='upper left')\n",
      "plt.xlabel(\"Class\")\n",
      "plt.xticks(np.arange(5))"
     ],
     "language": "python",
     "metadata": {},
     "outputs": [
      {
       "metadata": {},
       "output_type": "pyout",
       "prompt_number": 70,
       "text": [
        "([<matplotlib.axis.XTick at 0x7f210ea6cd68>,\n",
        "  <matplotlib.axis.XTick at 0x7f210ea55978>,\n",
        "  <matplotlib.axis.XTick at 0x7f210e92ac18>,\n",
        "  <matplotlib.axis.XTick at 0x7f210e8aea20>,\n",
        "  <matplotlib.axis.XTick at 0x7f210e8b2550>],\n",
        " <a list of 5 Text xticklabel objects>)"
       ]
      },
      {
       "metadata": {},
       "output_type": "display_data",
       "png": "[encoded data removed]",
       "text": [
        "<matplotlib.figure.Figure at 0x7f210eb5fe48>"
       ]
      }
     ],
     "prompt_number": 70
    },
    {
     "cell_type": "markdown",
     "metadata": {},
     "source": [
      "### Feature Engineering\n",
      "There are a couple holes in the data which we will need to fill to be able to train our classifiers, which expect numeric attributes. We will examine the affect these methods on our resulting accuracies for the different classifiers.\n",
      "* _Age_: There are a couple different substitutions we can try. First, we will attempt a simple substitution where we replace the null Age entries with the mean of the non-null Ages.\n",
      "* _Sex_: The classifiers expect numeric attributes, so we've remapped the values \"male\" and \"female\" to the values 1 and 0 in a new column, \"Gender.\""
     ]
    },
    {
     "cell_type": "markdown",
     "metadata": {},
     "source": [
      "### Using Support Vector Machines\n",
      "We will perform a grid search over our parameters for the SVM, executing a series of trials in which we tune the cost, gamma, and kernel to use in in our SVM."
     ]
    },
    {
     "cell_type": "code",
     "collapsed": false,
     "input": [
      "# Separate observations and target\n",
      "X = df[['Pclass', 'AgeFixed', 'Gender']]\n",
      "y = df['Survived']\n",
      "training, testing = analysis.split_dataset(X, y)\n",
      "cost_trials = [[5, 10, 15, 20],\n",
      "               [1, 2, 3, 4],\n",
      "               [1.5, 1.25, 1, 0.75, 0.5]]\n",
      "\n",
      "for cost in cost_trials:\n",
      "    print(\"Iterating over cost \", cost)\n",
      "    param_grid = [\n",
      "        {'C': cost, 'kernel': ['rbf'], 'gamma': [0.01, 0.001]},\n",
      "        {'C': cost, 'kernel': ['linear']}\n",
      "    ]\n",
      "    svm = analysis.build_svm(training['examples'], training['target'], param_grid)\n",
      "    print(svm.score(testing['examples'], testing['target']))"
     ],
     "language": "python",
     "metadata": {},
     "outputs": [
      {
       "output_type": "stream",
       "stream": "stdout",
       "text": [
        "Iterating over cost  [5, 10, 15, 20]\n",
        "[{'C': [5, 10, 15, 20], 'gamma': [0.01, 0.001], 'kernel': ['rbf']}, {'C': [5, 10, 15, 20], 'kernel': ['linear']}]\n",
        "Grid Search Params: "
       ]
      },
      {
       "output_type": "stream",
       "stream": "stdout",
       "text": [
        " {'C': 5, 'gamma': 0.01, 'kernel': 'rbf'}\n",
        "0.773952095808\n",
        "Iterating over cost  [1, 2, 3, 4]\n",
        "[{'C': [1, 2, 3, 4], 'gamma': [0.01, 0.001], 'kernel': ['rbf']}, {'C': [1, 2, 3, 4], 'kernel': ['linear']}]\n",
        "Grid Search Params: "
       ]
      },
      {
       "output_type": "stream",
       "stream": "stdout",
       "text": [
        " {'C': 1, 'gamma': 0.01, 'kernel': 'rbf'}\n",
        "0.773952095808\n",
        "Iterating over cost  [1.5, 1.25, 1, 0.75, 0.5]\n",
        "[{'C': [1.5, 1.25, 1, 0.75, 0.5], 'gamma': [0.01, 0.001], 'kernel': ['rbf']}, {'C': [1.5, 1.25, 1, 0.75, 0.5], 'kernel': ['linear']}]\n",
        "Grid Search Params: "
       ]
      },
      {
       "output_type": "stream",
       "stream": "stdout",
       "text": [
        " {'C': 1.5, 'gamma': 0.01, 'kernel': 'rbf'}\n",
        "0.773952095808\n"
       ]
      }
     ],
     "prompt_number": 13
    },
    {
     "cell_type": "markdown",
     "metadata": {},
     "source": [
      "### Building a Decision Tree"
     ]
    },
    {
     "cell_type": "code",
     "collapsed": false,
     "input": [
      "from sklearn import tree\n",
      "\n",
      "# Separate observations and target\n",
      "#X = df.copy()\n",
      "X = df[['Pclass', 'Age', 'Sex']]\n",
      "#del X['Survived']\n",
      "y = df['Survived']\n",
      "decision_tree = tree.DecisionTreeClassifier()\n",
      "#decision_tree = decision_tree.fit(X, y)"
     ],
     "language": "python",
     "metadata": {},
     "outputs": [],
     "prompt_number": 8
    },
    {
     "cell_type": "markdown",
     "metadata": {},
     "source": [
      "## Current Problems\n",
      "Right now the largest obstacle is getting the data into a workable format. There are still some remaining\n",
      "features that need values to be adjusted, such as the string values in the \"Sex\" column. We should be able\n",
      "to systematically assign numeric values to these categories, in the example \"male\" or \"female\", in order to\n",
      "sucessfully fit the classifiers.\n",
      "\n",
      "## Results and Conclusion\n",
      "* Coming with results"
     ]
    },
    {
     "cell_type": "code",
     "collapsed": false,
     "input": [],
     "language": "python",
     "metadata": {},
     "outputs": []
    }
   ],
   "metadata": {}
  }
 ]
}